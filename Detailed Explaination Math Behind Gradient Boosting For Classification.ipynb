{
 "cells": [
  {
   "cell_type": "markdown",
   "metadata": {},
   "source": [
    "# Gradient Boosting For Classification:"
   ]
  },
  {
   "cell_type": "markdown",
   "metadata": {},
   "source": [
    "# Algorithm"
   ]
  },
  {
   "cell_type": "markdown",
   "metadata": {},
   "source": [
    "$Input$: Data${(x_{i},{y}_i)}_{1}^N$ and a Differentiable $Loss$ $Function$ $L(y_{i},F(x))$."
   ]
  },
  {
   "cell_type": "markdown",
   "metadata": {},
   "source": [
    "$Step - [1]$: Initialize model with a constant value."
   ]
  },
  {
   "cell_type": "markdown",
   "metadata": {},
   "source": [
    "\\begin{equation}\n",
    "F_{0}(x) = \\underset{\\gamma}{\\mathrm{argmin}}\\sum_{i=1}^{N}L({y}_i,{\\gamma})\n",
    "\\end{equation}"
   ]
  },
  {
   "cell_type": "markdown",
   "metadata": {},
   "source": [
    "$Step-[2]$: for $m=1$ to M:"
   ]
  },
  {
   "cell_type": "markdown",
   "metadata": {},
   "source": [
    "$[A]$ -  Compute "
   ]
  },
  {
   "cell_type": "markdown",
   "metadata": {},
   "source": [
    "\\begin{equation}\n",
    "r_{im} = -[\\frac{\\partial L({y}_i,F({x}_i))}{\\partial F({x}_i)}]_{F(x) = F_{m-1}(x)}\n",
    "\\end{equation}"
   ]
  },
  {
   "cell_type": "markdown",
   "metadata": {},
   "source": [
    "$[B]$- fit a Regreesion tree to the $r_{im}$ values and create terminal regions $R_{jm}$ for $j$ = $1......j_{m}$."
   ]
  },
  {
   "cell_type": "markdown",
   "metadata": {},
   "source": [
    "$[C]$ - for $j$ = $1....j_{m}$ Compute."
   ]
  },
  {
   "cell_type": "markdown",
   "metadata": {},
   "source": [
    "\\begin{equation}\n",
    "{\\gamma} = \\underset{\\gamma}{\\mathrm{argmin}}\\sum_{x_{i}\\in{R_{ij}}}L({y}_i,F_{m-1}({x}_i) + {\\gamma})\n",
    "\\end{equation}"
   ]
  },
  {
   "cell_type": "markdown",
   "metadata": {},
   "source": [
    "${[D]}$ - Update."
   ]
  },
  {
   "cell_type": "markdown",
   "metadata": {},
   "source": [
    "\\begin{equation}\n",
    "F_{m}(x) = F_{m-1}(x) + {\\mu}\\sum_{j=1}^{j_{m}}{\\gamma_{m}}I(x\\in{R_{jm}})\n",
    "\\end{equation}"
   ]
  },
  {
   "cell_type": "markdown",
   "metadata": {},
   "source": [
    "${Step}$ - Output ${F_{m}(x)}$."
   ]
  },
  {
   "cell_type": "markdown",
   "metadata": {},
   "source": [
    "# Let's start from the  𝐼𝑛𝑝𝑢𝑡:"
   ]
  },
  {
   "cell_type": "markdown",
   "metadata": {},
   "source": [
    "$Data$ ${({x}_i,{y}_i)_{i=1}^N}$, This is Describes in an abstract way the $Training Dataset$,and the method we will use to evaluate how will the $Model$ fits the $Training Dataset$."
   ]
  },
  {
   "cell_type": "markdown",
   "metadata": {},
   "source": [
    "now here we creating small sample dataset for explaining detailed math of this algorithm."
   ]
  },
  {
   "cell_type": "code",
   "execution_count": 2,
   "metadata": {},
   "outputs": [],
   "source": [
    "import pandas as pd"
   ]
  },
  {
   "cell_type": "code",
   "execution_count": 3,
   "metadata": {},
   "outputs": [],
   "source": [
    "data = pd.DataFrame()"
   ]
  },
  {
   "cell_type": "code",
   "execution_count": 4,
   "metadata": {},
   "outputs": [],
   "source": [
    "data['Like Popcorn'] = ['yes','no','no']"
   ]
  },
  {
   "cell_type": "code",
   "execution_count": 5,
   "metadata": {},
   "outputs": [],
   "source": [
    "data['Age'] = [12,87,44]"
   ]
  },
  {
   "cell_type": "code",
   "execution_count": 6,
   "metadata": {},
   "outputs": [],
   "source": [
    "data['favorite'] = ['Blue','Green','Blue']"
   ]
  },
  {
   "cell_type": "code",
   "execution_count": 7,
   "metadata": {},
   "outputs": [],
   "source": [
    "data['Loves Troll_2']=['yes','yes','no']"
   ]
  },
  {
   "cell_type": "code",
   "execution_count": 8,
   "metadata": {},
   "outputs": [
    {
     "data": {
      "text/html": [
       "<div>\n",
       "<style scoped>\n",
       "    .dataframe tbody tr th:only-of-type {\n",
       "        vertical-align: middle;\n",
       "    }\n",
       "\n",
       "    .dataframe tbody tr th {\n",
       "        vertical-align: top;\n",
       "    }\n",
       "\n",
       "    .dataframe thead th {\n",
       "        text-align: right;\n",
       "    }\n",
       "</style>\n",
       "<table border=\"1\" class=\"dataframe\">\n",
       "  <thead>\n",
       "    <tr style=\"text-align: right;\">\n",
       "      <th></th>\n",
       "      <th>Like Popcorn</th>\n",
       "      <th>Age</th>\n",
       "      <th>favorite</th>\n",
       "      <th>Loves Troll_2</th>\n",
       "    </tr>\n",
       "  </thead>\n",
       "  <tbody>\n",
       "    <tr>\n",
       "      <th>0</th>\n",
       "      <td>yes</td>\n",
       "      <td>12</td>\n",
       "      <td>Blue</td>\n",
       "      <td>yes</td>\n",
       "    </tr>\n",
       "    <tr>\n",
       "      <th>1</th>\n",
       "      <td>no</td>\n",
       "      <td>87</td>\n",
       "      <td>Green</td>\n",
       "      <td>yes</td>\n",
       "    </tr>\n",
       "    <tr>\n",
       "      <th>2</th>\n",
       "      <td>no</td>\n",
       "      <td>44</td>\n",
       "      <td>Blue</td>\n",
       "      <td>no</td>\n",
       "    </tr>\n",
       "  </tbody>\n",
       "</table>\n",
       "</div>"
      ],
      "text/plain": [
       "  Like Popcorn  Age favorite Loves Troll_2\n",
       "0          yes   12     Blue           yes\n",
       "1           no   87    Green           yes\n",
       "2           no   44     Blue            no"
      ]
     },
     "execution_count": 8,
     "metadata": {},
     "output_type": "execute_result"
    }
   ],
   "source": [
    "data.head()"
   ]
  },
  {
   "cell_type": "markdown",
   "metadata": {},
   "source": [
    "we know that this Refers to the $Training$ $Dataset$."
   ]
  },
  {
   "cell_type": "markdown",
   "metadata": {},
   "source": [
    "$x_{i}$ refer to a row of measurements that we will use to $predict$ if someone $Loves Troll2$."
   ]
  },
  {
   "cell_type": "markdown",
   "metadata": {},
   "source": [
    "and $y_{i}$ refer whether or not someone $Loves Troll2$."
   ]
  },
  {
   "cell_type": "markdown",
   "metadata": {},
   "source": [
    "Now we Need a Differentiable $Loss$ $Function$ that will work for $classification$."
   ]
  },
  {
   "cell_type": "markdown",
   "metadata": {},
   "source": [
    "I think the easiest way to understand the most commonly used $Loss$ $Function$ for classification is show how it works on a graph"
   ]
  },
  {
   "cell_type": "markdown",
   "metadata": {},
   "source": [
    "the $red$ $dot$ with the $probability$ $of$ $Loving$ $Troll2$ = $0$ represents the one person that does not $Love$ $Troll2$  "
   ]
  },
  {
   "cell_type": "markdown",
   "metadata": {},
   "source": [
    "and the $Blue$ $Dots$ with a $probability$ $of$ $Loving$ $Troll2=1$ , represents the two people that $Love$ $Troll2$."
   ]
  },
  {
   "cell_type": "markdown",
   "metadata": {},
   "source": [
    "in other words the $Red$ and $Blue$  dots are the $observed$ values."
   ]
  },
  {
   "cell_type": "markdown",
   "metadata": {},
   "source": [
    "and we can draw a dotted line to represent the $predicted$ $probability$ that someone $Love$ $Troll2$."
   ]
  },
  {
   "cell_type": "markdown",
   "metadata": {},
   "source": [
    "In this examples i have set the $probability$ to $0.67$ $predicted$."
   ]
  },
  {
   "cell_type": "markdown",
   "metadata": {},
   "source": [
    "Now just we do for $Logistic$ $Regression$ we can calculate the $log(likelihood)$ of the data given the predicted probability."
   ]
  },
  {
   "cell_type": "markdown",
   "metadata": {},
   "source": [
    "Log(likelihood of the observed data given the prediction) equal to."
   ]
  },
  {
   "cell_type": "markdown",
   "metadata": {},
   "source": [
    "\\begin{equation}\n",
    "\\sum_{i=1}^Ny_{i}{\\log(p)} + (1-y_{i}){\\log(1-p)}\n",
    "\\end{equation}"
   ]
  },
  {
   "cell_type": "markdown",
   "metadata": {},
   "source": [
    "p's refer to the predicted probability which is 0.67 in this example:"
   ]
  },
  {
   "cell_type": "markdown",
   "metadata": {},
   "source": [
    "and y_{i} refer to the observed values for $Loves$ $Troll2$."
   ]
  },
  {
   "cell_type": "markdown",
   "metadata": {},
   "source": [
    "for the two people who $Love$ $Troll2$ $y_{i} = 1$ which means that this term will be $0$ ,${(1-y_{i}){\\log}(1-p)}$ "
   ]
  },
  {
   "cell_type": "markdown",
   "metadata": {},
   "source": [
    "leaving just ${\\log(p)}$."
   ]
  },
  {
   "cell_type": "markdown",
   "metadata": {},
   "source": [
    "in constrast  for the one person who does not $Love$ $Troll2$ $y_{i}=0$ which means $y_{i}{\\log(p)}$ this trem will be zero."
   ]
  },
  {
   "cell_type": "markdown",
   "metadata": {},
   "source": [
    "leaving just ${\\log(1-p)}$."
   ]
  },
  {
   "cell_type": "markdown",
   "metadata": {},
   "source": [
    "Now Summation to calculate the $log(likelihood)$ of all three $observed$ values."
   ]
  },
  {
   "cell_type": "markdown",
   "metadata": {},
   "source": [
    "we will start by calculating the $log(likelihood)$ for the first person..."
   ]
  },
  {
   "cell_type": "markdown",
   "metadata": {},
   "source": [
    "because this person $love$ $troll2$ $y_{1}=1$."
   ]
  },
  {
   "cell_type": "markdown",
   "metadata": {},
   "source": [
    "\\begin{equation}\n",
    "y_{1}*{\\log(p)} + (1-y_{1})*{\\log(1-p)}\n",
    "\\end{equation}"
   ]
  },
  {
   "cell_type": "markdown",
   "metadata": {},
   "source": [
    "\\begin{equation}\n",
    "1*{\\log(p)} + (1-1)*{\\log(1-p)}\n",
    "\\end{equation}"
   ]
  },
  {
   "cell_type": "markdown",
   "metadata": {},
   "source": [
    "\\begin{equation}\n",
    "1*{\\log(p)}  = {\\log(0.67)}\n",
    "\\end{equation}"
   ]
  },
  {
   "cell_type": "markdown",
   "metadata": {},
   "source": [
    "and the $log(likelihood)$ for the first person given the predicted probability is the ${\\log(0.67)}$."
   ]
  },
  {
   "cell_type": "markdown",
   "metadata": {},
   "source": [
    "now let's calculate the $log(likelihood)$ for the second person ${y_{2} = 1}$."
   ]
  },
  {
   "cell_type": "markdown",
   "metadata": {},
   "source": [
    "\\begin{equation}\n",
    "y_{2}*{\\log(p)} + (1-y_{2})*{\\log(1-p)}\n",
    "\\end{equation}"
   ]
  },
  {
   "cell_type": "markdown",
   "metadata": {},
   "source": [
    "\\begin{equation}\n",
    "1*{\\log(p)} + (1-1)*{\\log(1-p)}\n",
    "\\end{equation}"
   ]
  },
  {
   "cell_type": "markdown",
   "metadata": {},
   "source": [
    "\\begin{equation}\n",
    "1*{\\log(p)}  = {\\log(0.67)}\n",
    "\\end{equation}"
   ]
  },
  {
   "cell_type": "markdown",
   "metadata": {},
   "source": [
    "same for third person $y_{3} = 0$."
   ]
  },
  {
   "cell_type": "markdown",
   "metadata": {},
   "source": [
    "\\begin{equation}\n",
    "y_{3}*{\\log(p)} + (1-y_{3})*{\\log(1-p)}\n",
    "\\end{equation}"
   ]
  },
  {
   "cell_type": "markdown",
   "metadata": {},
   "source": [
    "\\begin{equation}\n",
    "0*{\\log(p)} + (1-0)*{\\log(1-p)}\n",
    "\\end{equation}"
   ]
  },
  {
   "cell_type": "markdown",
   "metadata": {},
   "source": [
    "\\begin{equation}\n",
    "1*{\\log(1-p)} = {\\log(1-0.67)}\n",
    "\\end{equation}"
   ]
  },
  {
   "cell_type": "markdown",
   "metadata": {},
   "source": [
    "\\begin{equation}\n",
    "{\\log(1-0.67)} = {\\log(0.33)}\n",
    "\\end{equation}"
   ]
  },
  {
   "cell_type": "markdown",
   "metadata": {},
   "source": [
    "Note: The better the prediction , the larger the ${log(likelihood)}$ and this is and this is why, when doing $Logistic$ $Regression$ , the goal is to maximize the $log(likelihood)$."
   ]
  },
  {
   "cell_type": "markdown",
   "metadata": {},
   "source": [
    "that mean that if we want to use the $log(likelihood)$ as a $loss$ $function$, where smaller values represent better fitting models then we need to multiply the log(likelihood) by (-1)."
   ]
  },
  {
   "cell_type": "markdown",
   "metadata": {},
   "source": [
    "\\begin{equation}\n",
    "-\\sum_{i=1}^Ny_{i}{\\log(p)} + (1-y_{i}){\\log(1-p)}\n",
    "\\end{equation}"
   ]
  },
  {
   "cell_type": "markdown",
   "metadata": {},
   "source": [
    "and since a $loss$ $function$ sometime only deals with one sample at a time , we get rid of the summation."
   ]
  },
  {
   "cell_type": "markdown",
   "metadata": {},
   "source": [
    "\\begin{equation}\n",
    "-[y*{\\log(p)} + (1-y)*{\\log(1-p)}]\n",
    "\\end{equation}"
   ]
  },
  {
   "cell_type": "markdown",
   "metadata": {},
   "source": [
    "and to make it easier to read we will replace (y) with $observed$ ."
   ]
  },
  {
   "cell_type": "markdown",
   "metadata": {},
   "source": [
    "\\begin{equation}\n",
    "-[observed*{\\log(p)} + (1-observed)*{\\log(1-p)}]\n",
    "\\end{equation}"
   ]
  },
  {
   "cell_type": "markdown",
   "metadata": {},
   "source": [
    "now we need to transform is the equation into the  $negative$ $log(likelihood)$ ,so that it is a function of the $predicted$ $log(odds)$ instead of the predicted probability $p$."
   ]
  },
  {
   "cell_type": "markdown",
   "metadata": {},
   "source": [
    "we also need to simplify it."
   ]
  },
  {
   "cell_type": "markdown",
   "metadata": {},
   "source": [
    "\\begin{equation}\n",
    "-[observed*{\\log(p)} + (1-observed)*{\\log(1-p)}]\n",
    "\\end{equation}"
   ]
  },
  {
   "cell_type": "markdown",
   "metadata": {},
   "source": [
    "\\begin{equation}\n",
    "-observed*{\\log(p)} - (1-observed)*{\\log(1-p)}\n",
    "\\end{equation}"
   ]
  },
  {
   "cell_type": "markdown",
   "metadata": {},
   "source": [
    "\\begin{equation}\n",
    "-observed*{\\log(p)} - {\\log(1-p)} +observed*{\\log(1-p)} \n",
    "\\end{equation}"
   ]
  },
  {
   "cell_type": "markdown",
   "metadata": {},
   "source": [
    "\\begin{equation}\n",
    "-observed*{\\log(p)} +observed*{\\log(1-p)}  - {\\log(1-p)}\n",
    "\\end{equation}"
   ]
  },
  {
   "cell_type": "markdown",
   "metadata": {},
   "source": [
    "\\begin{equation}\n",
    "-observed*[{\\log(\\frac{p}{1-p})}]  - {\\log(1-p)}\n",
    "\\end{equation}"
   ]
  },
  {
   "cell_type": "markdown",
   "metadata": {},
   "source": [
    "\\begin{equation}\n",
    "{\\log(\\frac{p}{1-p})} = log(odds)\n",
    "\\end{equation}"
   ]
  },
  {
   "cell_type": "code",
   "execution_count": null,
   "metadata": {},
   "outputs": [],
   "source": []
  }
 ],
 "metadata": {
  "kernelspec": {
   "display_name": "Python 3",
   "language": "python",
   "name": "python3"
  },
  "language_info": {
   "codemirror_mode": {
    "name": "ipython",
    "version": 3
   },
   "file_extension": ".py",
   "mimetype": "text/x-python",
   "name": "python",
   "nbconvert_exporter": "python",
   "pygments_lexer": "ipython3",
   "version": "3.7.3"
  }
 },
 "nbformat": 4,
 "nbformat_minor": 2
}
