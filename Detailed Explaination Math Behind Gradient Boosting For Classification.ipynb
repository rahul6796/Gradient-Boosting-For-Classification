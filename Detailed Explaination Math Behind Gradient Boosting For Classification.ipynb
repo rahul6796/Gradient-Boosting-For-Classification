{
 "cells": [
  {
   "cell_type": "markdown",
   "metadata": {},
   "source": [
    "# Gradient Boosting For Classification:"
   ]
  },
  {
   "cell_type": "markdown",
   "metadata": {},
   "source": [
    "# Algorithm"
   ]
  },
  {
   "cell_type": "markdown",
   "metadata": {},
   "source": [
    "$Input$: Data${(x_{i},{y}_i)}_{1}^N$ and a Differentiable $Loss$ $Function$ $L(y_{i},F(x))$."
   ]
  },
  {
   "cell_type": "markdown",
   "metadata": {},
   "source": [
    "$Step - [1]$: Initialize model with a constant value."
   ]
  },
  {
   "cell_type": "markdown",
   "metadata": {},
   "source": [
    "\\begin{equation}\n",
    "F_{0}(x) = \\underset{\\gamma}{\\mathrm{argmin}}\\sum_{i=1}^{N}L({y}_i,{\\gamma})\n",
    "\\end{equation}"
   ]
  },
  {
   "cell_type": "markdown",
   "metadata": {},
   "source": [
    "$Step-[2]$: for $m=1$ to M:"
   ]
  },
  {
   "cell_type": "markdown",
   "metadata": {},
   "source": [
    "$[A]$ -  Compute "
   ]
  },
  {
   "cell_type": "markdown",
   "metadata": {},
   "source": [
    "\\begin{equation}\n",
    "r_{im} = -[\\frac{\\partial L({y}_i,F({x}_i))}{\\partial F({x}_i)}]_{F(x) = F_{m-1}(x)}\n",
    "\\end{equation}"
   ]
  },
  {
   "cell_type": "markdown",
   "metadata": {},
   "source": [
    "$[B]$- fit a Regreesion tree to the $r_{im}$ values and create terminal regions $R_{jm}$ for $j$ = $1......j_{m}$."
   ]
  },
  {
   "cell_type": "markdown",
   "metadata": {},
   "source": [
    "$[C]$ - for $j$ = $1....j_{m}$ Compute."
   ]
  },
  {
   "cell_type": "markdown",
   "metadata": {},
   "source": [
    "\\begin{equation}\n",
    "{\\gamma} = \\underset{\\gamma}{\\mathrm{argmin}}\\sum_{x_{i}\\in{R_{ij}}}L({y}_i,F_{m-1}({x}_i) + {\\gamma})\n",
    "\\end{equation}"
   ]
  },
  {
   "cell_type": "markdown",
   "metadata": {},
   "source": [
    "${[D]}$ - Update."
   ]
  },
  {
   "cell_type": "markdown",
   "metadata": {},
   "source": [
    "\\begin{equation}\n",
    "F_{m}(x) = F_{m-1}(x) + {\\mu}\\sum_{j=1}^{j_{m}}{\\gamma_{m}}I(x\\in{R_{jm}})\n",
    "\\end{equation}"
   ]
  },
  {
   "cell_type": "markdown",
   "metadata": {},
   "source": [
    "${Step}$ - Output ${F_{m}(x)}$."
   ]
  },
  {
   "cell_type": "markdown",
   "metadata": {},
   "source": [
    "# Let's start from the  𝐼𝑛𝑝𝑢𝑡:"
   ]
  },
  {
   "cell_type": "markdown",
   "metadata": {},
   "source": [
    "$Data$ ${({x}_i,{y}_i)_{i=1}^N}$, This is Describes in an abstract way the $Training Dataset$,and the method we will use to evaluate how will the $Model$ fits the $Training Dataset$."
   ]
  },
  {
   "cell_type": "markdown",
   "metadata": {},
   "source": [
    "now here we creating small sample dataset for explaining detailed math of this algorithm."
   ]
  },
  {
   "cell_type": "code",
   "execution_count": 2,
   "metadata": {},
   "outputs": [],
   "source": [
    "import pandas as pd"
   ]
  },
  {
   "cell_type": "code",
   "execution_count": 3,
   "metadata": {},
   "outputs": [],
   "source": [
    "data = pd.DataFrame()"
   ]
  },
  {
   "cell_type": "code",
   "execution_count": 4,
   "metadata": {},
   "outputs": [],
   "source": [
    "data['Like Popcorn'] = ['yes','no','no']"
   ]
  },
  {
   "cell_type": "code",
   "execution_count": 5,
   "metadata": {},
   "outputs": [],
   "source": [
    "data['Age'] = [12,87,44]"
   ]
  },
  {
   "cell_type": "code",
   "execution_count": 6,
   "metadata": {},
   "outputs": [],
   "source": [
    "data['favorite'] = ['Blue','Green','Blue']"
   ]
  },
  {
   "cell_type": "code",
   "execution_count": 7,
   "metadata": {},
   "outputs": [],
   "source": [
    "data['Loves Troll_2']=['yes','yes','no']"
   ]
  },
  {
   "cell_type": "code",
   "execution_count": 8,
   "metadata": {},
   "outputs": [
    {
     "data": {
      "text/html": [
       "<div>\n",
       "<style scoped>\n",
       "    .dataframe tbody tr th:only-of-type {\n",
       "        vertical-align: middle;\n",
       "    }\n",
       "\n",
       "    .dataframe tbody tr th {\n",
       "        vertical-align: top;\n",
       "    }\n",
       "\n",
       "    .dataframe thead th {\n",
       "        text-align: right;\n",
       "    }\n",
       "</style>\n",
       "<table border=\"1\" class=\"dataframe\">\n",
       "  <thead>\n",
       "    <tr style=\"text-align: right;\">\n",
       "      <th></th>\n",
       "      <th>Like Popcorn</th>\n",
       "      <th>Age</th>\n",
       "      <th>favorite</th>\n",
       "      <th>Loves Troll_2</th>\n",
       "    </tr>\n",
       "  </thead>\n",
       "  <tbody>\n",
       "    <tr>\n",
       "      <th>0</th>\n",
       "      <td>yes</td>\n",
       "      <td>12</td>\n",
       "      <td>Blue</td>\n",
       "      <td>yes</td>\n",
       "    </tr>\n",
       "    <tr>\n",
       "      <th>1</th>\n",
       "      <td>no</td>\n",
       "      <td>87</td>\n",
       "      <td>Green</td>\n",
       "      <td>yes</td>\n",
       "    </tr>\n",
       "    <tr>\n",
       "      <th>2</th>\n",
       "      <td>no</td>\n",
       "      <td>44</td>\n",
       "      <td>Blue</td>\n",
       "      <td>no</td>\n",
       "    </tr>\n",
       "  </tbody>\n",
       "</table>\n",
       "</div>"
      ],
      "text/plain": [
       "  Like Popcorn  Age favorite Loves Troll_2\n",
       "0          yes   12     Blue           yes\n",
       "1           no   87    Green           yes\n",
       "2           no   44     Blue            no"
      ]
     },
     "execution_count": 8,
     "metadata": {},
     "output_type": "execute_result"
    }
   ],
   "source": [
    "data.head()"
   ]
  },
  {
   "cell_type": "markdown",
   "metadata": {},
   "source": [
    "we know that this Refers to the $Training$ $Dataset$."
   ]
  },
  {
   "cell_type": "markdown",
   "metadata": {},
   "source": [
    "$x_{i}$ refer to a row of measurements that we will use to $predict$ if someone $Loves Troll2$."
   ]
  },
  {
   "cell_type": "markdown",
   "metadata": {},
   "source": [
    "and $y_{i}$ refer whether or not someone $Loves Troll2$."
   ]
  },
  {
   "cell_type": "markdown",
   "metadata": {},
   "source": [
    "Now we Need a Differentiable $Loss$ $Function$ that will work for $classification$."
   ]
  },
  {
   "cell_type": "markdown",
   "metadata": {},
   "source": [
    "I think the easiest way to understand the most commonly used $Loss$ $Function$ for classification is show how it works on a graph"
   ]
  },
  {
   "cell_type": "markdown",
   "metadata": {},
   "source": [
    "the $red$ $dot$ with the $probability$ $of$ $Loving$ $Troll2$ = $0$ represents the one person that does not $Love$ $Troll2$  "
   ]
  },
  {
   "cell_type": "markdown",
   "metadata": {},
   "source": [
    "and the $Blue$ $Dots$ with a $probability$ $of$ $Loving$ $Troll2=1$ , represents the two people that $Love$ $Troll2$."
   ]
  },
  {
   "cell_type": "markdown",
   "metadata": {},
   "source": [
    "in other words the $Red$ and $Blue$  dots are the $observed$ values."
   ]
  },
  {
   "cell_type": "markdown",
   "metadata": {},
   "source": [
    "and we can draw a dotted line to represent the $predicted$ $probability$ that someone $Love$ $Troll2$."
   ]
  },
  {
   "cell_type": "markdown",
   "metadata": {},
   "source": [
    "In this examples i have set the $probability$ to $0.67$ $predicted$."
   ]
  },
  {
   "cell_type": "markdown",
   "metadata": {},
   "source": [
    "Now just we do for $Logistic$ $Regression$ we can calculate the $log(likelihood)$ of the data given the predicted probability."
   ]
  },
  {
   "cell_type": "markdown",
   "metadata": {},
   "source": [
    "Log(likelihood of the observed data given the prediction) equal to."
   ]
  },
  {
   "cell_type": "markdown",
   "metadata": {},
   "source": [
    "\\begin{equation}\n",
    "\\sum_{i=1}^Ny_{i}{\\log(p)} + (1-y_{i}){\\log(1-p)}\n",
    "\\end{equation}"
   ]
  },
  {
   "cell_type": "markdown",
   "metadata": {},
   "source": [
    "p's refer to the predicted probability which is 0.67 in this example:"
   ]
  },
  {
   "cell_type": "markdown",
   "metadata": {},
   "source": [
    "and y_{i} refer to the observed values for $Loves$ $Troll2$."
   ]
  },
  {
   "cell_type": "markdown",
   "metadata": {},
   "source": [
    "for the two people who $Love$ $Troll2$ $y_{i} = 1$ which means that this term will be $0$ ,${(1-y_{i}){\\log}(1-p)}$ "
   ]
  },
  {
   "cell_type": "markdown",
   "metadata": {},
   "source": [
    "leaving just ${\\log(p)}$."
   ]
  },
  {
   "cell_type": "markdown",
   "metadata": {},
   "source": [
    "in constrast  for the one person who does not $Love$ $Troll2$ $y_{i}=0$ which means $y_{i}{\\log(p)}$ this trem will be zero."
   ]
  },
  {
   "cell_type": "markdown",
   "metadata": {},
   "source": [
    "leaving just ${\\log(1-p)}$."
   ]
  },
  {
   "cell_type": "markdown",
   "metadata": {},
   "source": [
    "Now Summation to calculate the $log(likelihood)$ of all three $observed$ values."
   ]
  },
  {
   "cell_type": "markdown",
   "metadata": {},
   "source": [
    "we will start by calculating the $log(likelihood)$ for the first person..."
   ]
  },
  {
   "cell_type": "markdown",
   "metadata": {},
   "source": [
    "because this person $love$ $troll2$ $y_{1}=1$."
   ]
  },
  {
   "cell_type": "markdown",
   "metadata": {},
   "source": [
    "\\begin{equation}\n",
    "y_{1}*{\\log(p)} + (1-y_{1})*{\\log(1-p)}\n",
    "\\end{equation}"
   ]
  },
  {
   "cell_type": "markdown",
   "metadata": {},
   "source": [
    "\\begin{equation}\n",
    "1*{\\log(p)} + (1-1)*{\\log(1-p)}\n",
    "\\end{equation}"
   ]
  },
  {
   "cell_type": "markdown",
   "metadata": {},
   "source": [
    "\\begin{equation}\n",
    "1*{\\log(p)}  = {\\log(0.67)}\n",
    "\\end{equation}"
   ]
  },
  {
   "cell_type": "markdown",
   "metadata": {},
   "source": [
    "and the $log(likelihood)$ for the first person given the predicted probability is the ${\\log(0.67)}$."
   ]
  },
  {
   "cell_type": "markdown",
   "metadata": {},
   "source": [
    "now let's calculate the $log(likelihood)$ for the second person ${y_{2} = 1}$."
   ]
  },
  {
   "cell_type": "markdown",
   "metadata": {},
   "source": [
    "\\begin{equation}\n",
    "y_{2}*{\\log(p)} + (1-y_{2})*{\\log(1-p)}\n",
    "\\end{equation}"
   ]
  },
  {
   "cell_type": "markdown",
   "metadata": {},
   "source": [
    "\\begin{equation}\n",
    "1*{\\log(p)} + (1-1)*{\\log(1-p)}\n",
    "\\end{equation}"
   ]
  },
  {
   "cell_type": "markdown",
   "metadata": {},
   "source": [
    "\\begin{equation}\n",
    "1*{\\log(p)}  = {\\log(0.67)}\n",
    "\\end{equation}"
   ]
  },
  {
   "cell_type": "markdown",
   "metadata": {},
   "source": [
    "same for third person $y_{3} = 0$."
   ]
  },
  {
   "cell_type": "markdown",
   "metadata": {},
   "source": [
    "\\begin{equation}\n",
    "y_{3}*{\\log(p)} + (1-y_{3})*{\\log(1-p)}\n",
    "\\end{equation}"
   ]
  },
  {
   "cell_type": "markdown",
   "metadata": {},
   "source": [
    "\\begin{equation}\n",
    "0*{\\log(p)} + (1-0)*{\\log(1-p)}\n",
    "\\end{equation}"
   ]
  },
  {
   "cell_type": "markdown",
   "metadata": {},
   "source": [
    "\\begin{equation}\n",
    "1*{\\log(1-p)} = {\\log(1-0.67)}\n",
    "\\end{equation}"
   ]
  },
  {
   "cell_type": "markdown",
   "metadata": {},
   "source": [
    "\\begin{equation}\n",
    "{\\log(1-0.67)} = {\\log(0.33)}\n",
    "\\end{equation}"
   ]
  },
  {
   "cell_type": "markdown",
   "metadata": {},
   "source": [
    "Note: The better the prediction , the larger the ${log(likelihood)}$ and this is and this is why, when doing $Logistic$ $Regression$ , the goal is to maximize the $log(likelihood)$."
   ]
  },
  {
   "cell_type": "markdown",
   "metadata": {},
   "source": [
    "that mean that if we want to use the $log(likelihood)$ as a $loss$ $function$, where smaller values represent better fitting models then we need to multiply the log(likelihood) by (-1)."
   ]
  },
  {
   "cell_type": "markdown",
   "metadata": {},
   "source": [
    "\\begin{equation}\n",
    "-\\sum_{i=1}^Ny_{i}{\\log(p)} + (1-y_{i}){\\log(1-p)}\n",
    "\\end{equation}"
   ]
  },
  {
   "cell_type": "markdown",
   "metadata": {},
   "source": [
    "and since a $loss$ $function$ sometime only deals with one sample at a time , we get rid of the summation."
   ]
  },
  {
   "cell_type": "markdown",
   "metadata": {},
   "source": [
    "\\begin{equation}\n",
    "-[y*{\\log(p)} + (1-y)*{\\log(1-p)}]\n",
    "\\end{equation}"
   ]
  },
  {
   "cell_type": "markdown",
   "metadata": {},
   "source": [
    "and to make it easier to read we will replace (y) with $observed$ ."
   ]
  },
  {
   "cell_type": "markdown",
   "metadata": {},
   "source": [
    "\\begin{equation}\n",
    "-[observed*{\\log(p)} + (1-observed)*{\\log(1-p)}]\n",
    "\\end{equation}"
   ]
  },
  {
   "cell_type": "markdown",
   "metadata": {},
   "source": [
    "now we need to transform is the equation into the  $negative$ $log(likelihood)$ ,so that it is a function of the $predicted$ $log(odds)$ instead of the predicted probability $p$."
   ]
  },
  {
   "cell_type": "markdown",
   "metadata": {},
   "source": [
    "we also need to simplify it."
   ]
  },
  {
   "cell_type": "markdown",
   "metadata": {},
   "source": [
    "\\begin{equation}\n",
    "-[observed*{\\log(p)} + (1-observed)*{\\log(1-p)}]\n",
    "\\end{equation}"
   ]
  },
  {
   "cell_type": "markdown",
   "metadata": {},
   "source": [
    "\\begin{equation}\n",
    "-observed*{\\log(p)} - (1-observed)*{\\log(1-p)}\n",
    "\\end{equation}"
   ]
  },
  {
   "cell_type": "markdown",
   "metadata": {},
   "source": [
    "\\begin{equation}\n",
    "-observed*{\\log(p)} - {\\log(1-p)} +observed*{\\log(1-p)} \n",
    "\\end{equation}"
   ]
  },
  {
   "cell_type": "markdown",
   "metadata": {},
   "source": [
    "\\begin{equation}\n",
    "-observed*{\\log(p)} +observed*{\\log(1-p)}  - {\\log(1-p)}\n",
    "\\end{equation}"
   ]
  },
  {
   "cell_type": "markdown",
   "metadata": {},
   "source": [
    "\\begin{equation}\n",
    "-observed*[{\\log(\\frac{p}{1-p})}]  - {\\log(1-p)}\n",
    "\\end{equation}"
   ]
  },
  {
   "cell_type": "markdown",
   "metadata": {},
   "source": [
    "\\begin{equation}\n",
    "{\\log(\\frac{p}{1-p})} = log(odds)\n",
    "\\end{equation}"
   ]
  },
  {
   "cell_type": "markdown",
   "metadata": {},
   "source": [
    "# $Note$:- the relationship between probability $p$ and the $log(odds)$ is derived:"
   ]
  },
  {
   "cell_type": "markdown",
   "metadata": {},
   "source": [
    "For example you have might say that the odds in favor of my team winning the game are $1$ to $4$."
   ]
  },
  {
   "cell_type": "markdown",
   "metadata": {},
   "source": [
    "we have $5$ games total"
   ]
  },
  {
   "cell_type": "markdown",
   "metadata": {},
   "source": [
    "$1$ of which my team willl win and $4$ of which my team will loss."
   ]
  },
  {
   "cell_type": "markdown",
   "metadata": {},
   "source": [
    "so the odds are 1 to $4$."
   ]
  },
  {
   "cell_type": "markdown",
   "metadata": {},
   "source": [
    "Alternatively we can write this as a fraction."
   ]
  },
  {
   "cell_type": "markdown",
   "metadata": {},
   "source": [
    "\\begin{equation}\n",
    "\\frac{1}{4} = 0.25\n",
    "\\end{equation}"
   ]
  },
  {
   "cell_type": "markdown",
   "metadata": {},
   "source": [
    "odds are $0.25$ that my team will win the game ."
   ]
  },
  {
   "cell_type": "markdown",
   "metadata": {},
   "source": [
    "here another example: you might say that the odds in favor of my team winning to game are $5$ to $3$."
   ]
  },
  {
   "cell_type": "markdown",
   "metadata": {},
   "source": [
    "$8$ games total."
   ]
  },
  {
   "cell_type": "markdown",
   "metadata": {},
   "source": [
    "$5$ of which my team will win and $3$ of which my team will loss."
   ]
  },
  {
   "cell_type": "markdown",
   "metadata": {},
   "source": [
    "so odds of $5$ to $3$ ."
   ]
  },
  {
   "cell_type": "markdown",
   "metadata": {},
   "source": [
    "Alternatively we can write this a fraction."
   ]
  },
  {
   "cell_type": "markdown",
   "metadata": {},
   "source": [
    "\\begin{equation}\n",
    "\\frac{5}{3} = 1.7\n",
    "\\end{equation}"
   ]
  },
  {
   "cell_type": "markdown",
   "metadata": {},
   "source": [
    "the odds are $1.7$ that my team will win the game."
   ]
  },
  {
   "cell_type": "markdown",
   "metadata": {},
   "source": [
    "$Note$:- $odds$ are not $probability$."
   ]
  },
  {
   "cell_type": "markdown",
   "metadata": {},
   "source": [
    "the $odds$ are the ratio of something happing (i.e my  team winning)...."
   ]
  },
  {
   "cell_type": "markdown",
   "metadata": {},
   "source": [
    "to something not happening (i.e my team not winning )...."
   ]
  },
  {
   "cell_type": "markdown",
   "metadata": {},
   "source": [
    "$Probability$ is the ratio of something happening (i.e my team winning )...."
   ]
  },
  {
   "cell_type": "markdown",
   "metadata": {},
   "source": [
    "to every thing that could happen (i.e my team winning and losing)...."
   ]
  },
  {
   "cell_type": "markdown",
   "metadata": {},
   "source": [
    "in previous example the odds in favor of my team winning the game are $5$ to $3$ is $\\frac{5}{3}$ = $1.7$."
   ]
  },
  {
   "cell_type": "markdown",
   "metadata": {},
   "source": [
    "however the probability of my team winning in the number of games they win $5$ divided by the total number of games they play $8$."
   ]
  },
  {
   "cell_type": "markdown",
   "metadata": {},
   "source": [
    "\\begin{equation}\n",
    "\\frac{5}{8} = 0.625\n",
    "\\end{equation}"
   ]
  },
  {
   "cell_type": "markdown",
   "metadata": {},
   "source": [
    "Now that we know that $odds$ are different from $probability$ let's talk about how $odds$ can be calculated  from $probability$"
   ]
  },
  {
   "cell_type": "markdown",
   "metadata": {},
   "source": [
    "$\\frac{5}{3}$ = $1.7$ in the last example we saw that the odds of winning are $1.7$..."
   ]
  },
  {
   "cell_type": "markdown",
   "metadata": {},
   "source": [
    "$\\frac{5}{8}$ = $0.625$ and the $probability$ of winning is $0.625$ ."
   ]
  },
  {
   "cell_type": "markdown",
   "metadata": {},
   "source": [
    "we can also calculating the $probability$ of $losing$."
   ]
  },
  {
   "cell_type": "markdown",
   "metadata": {},
   "source": [
    "$\\frac{3}{8}$ = $0.375$ the probability is $0.375$....."
   ]
  },
  {
   "cell_type": "markdown",
   "metadata": {},
   "source": [
    "$Note$:- We could also calculate the $probability$ of losing as:"
   ]
  },
  {
   "cell_type": "markdown",
   "metadata": {},
   "source": [
    "$1$ - the probability of winning:"
   ]
  },
  {
   "cell_type": "markdown",
   "metadata": {},
   "source": [
    "\\begin{equation}\n",
    "1- \\frac{5}{8}\n",
    "\\end{equation}"
   ]
  },
  {
   "cell_type": "markdown",
   "metadata": {},
   "source": [
    "\\begin{equation}\n",
    "\\frac{8}{8} - \\frac{5}{8} = 0.375\n",
    "\\end{equation}"
   ]
  },
  {
   "cell_type": "markdown",
   "metadata": {},
   "source": [
    "\\begin{equation}\n",
    "\\frac{the-ratio-of-the-probability-of-winning...}{to (1 - the-probability-of-winning)}\n",
    "\\end{equation}"
   ]
  },
  {
   "cell_type": "markdown",
   "metadata": {},
   "source": [
    "\\begin{equation}\n",
    "=\\frac{\\frac{5}{8}}{\\frac{3}{8}}\n",
    "\\end{equation}"
   ]
  },
  {
   "cell_type": "markdown",
   "metadata": {},
   "source": [
    "\\begin{equation}\n",
    "=\\frac{5}{3}\n",
    "\\end{equation}"
   ]
  },
  {
   "cell_type": "markdown",
   "metadata": {},
   "source": [
    "\\begin{equation}\n",
    "=1.7\n",
    "\\end{equation}"
   ]
  },
  {
   "cell_type": "markdown",
   "metadata": {},
   "source": [
    "this is the ratio of the $probability$ ...."
   ]
  },
  {
   "cell_type": "markdown",
   "metadata": {},
   "source": [
    "being the same thing as the ratio of the raw counts..."
   ]
  },
  {
   "cell_type": "markdown",
   "metadata": {},
   "source": [
    "and so either way we get the same $odds$."
   ]
  },
  {
   "cell_type": "markdown",
   "metadata": {},
   "source": [
    "I mention this because about $50$% of the time you will see $odds$ calculate from counts..."
   ]
  },
  {
   "cell_type": "markdown",
   "metadata": {},
   "source": [
    "and the other $50$% of the time you will see odds calculated from $probabilities$"
   ]
  },
  {
   "cell_type": "markdown",
   "metadata": {},
   "source": [
    "you can get same result.."
   ]
  },
  {
   "cell_type": "markdown",
   "metadata": {},
   "source": [
    "$Note$:- out there in the wild world of statistics , you will after see this formula..."
   ]
  },
  {
   "cell_type": "markdown",
   "metadata": {},
   "source": [
    "simplified ot this...."
   ]
  },
  {
   "cell_type": "markdown",
   "metadata": {},
   "source": [
    "\\begin{equation}\n",
    "\\frac{(p)}{(1-p)}\n",
    "\\end{equation}"
   ]
  },
  {
   "cell_type": "markdown",
   "metadata": {},
   "source": [
    "where $p$ is the probability of winning."
   ]
  },
  {
   "cell_type": "markdown",
   "metadata": {},
   "source": [
    "Now that we know that odds are."
   ]
  },
  {
   "cell_type": "markdown",
   "metadata": {},
   "source": [
    "# let's talk about $log$ of the $odds$."
   ]
  },
  {
   "cell_type": "markdown",
   "metadata": {},
   "source": [
    "in this example we calculated the $odds$ of winning as $1$ to $4$ or $0.25$."
   ]
  },
  {
   "cell_type": "markdown",
   "metadata": {},
   "source": [
    "if my team was worse, the $odds$ of winning could be $1$ to $8$ or $0.125$."
   ]
  },
  {
   "cell_type": "markdown",
   "metadata": {},
   "source": [
    "and if my team was terrible the $odds$ of winning could be $1$ to $16$ or $0.063$."
   ]
  },
  {
   "cell_type": "markdown",
   "metadata": {},
   "source": [
    "and lastly if my team was the worst , the $odds$ of winning could be $1$ to $32$ or $0.031$"
   ]
  },
  {
   "cell_type": "markdown",
   "metadata": {},
   "source": [
    "we can see that the worse my team is the $odds$ of winning get closer and closer to $0$. "
   ]
  },
  {
   "cell_type": "markdown",
   "metadata": {},
   "source": [
    "in other words the $odds$ are against my team winning then they will be between $0$ and $1$."
   ]
  },
  {
   "cell_type": "markdown",
   "metadata": {},
   "source": [
    "now if my team was good then the $odds$ might be $4$ to $3$ or $1.3$ in favor of my team winning "
   ]
  },
  {
   "cell_type": "markdown",
   "metadata": {},
   "source": [
    "and if my team was better the $odds$ might be $8$ to $3$ or $2.7$ in favor of winning."
   ]
  },
  {
   "cell_type": "markdown",
   "metadata": {},
   "source": [
    "and if my team was really good the $odds$ be $32$ to $3$ or $10.7$."
   ]
  },
  {
   "cell_type": "markdown",
   "metadata": {},
   "source": [
    "we can see that the better my team is the $odds$ of winning start at $1$ and just go up and up."
   ]
  },
  {
   "cell_type": "markdown",
   "metadata": {},
   "source": [
    "in other words if the $odds$ are for my team  winning then they will be between $1$ and $infinity$. "
   ]
  },
  {
   "cell_type": "markdown",
   "metadata": {},
   "source": [
    "the $Asymmetry$ makes it difficult to compare the odds for or against my team winning."
   ]
  },
  {
   "cell_type": "markdown",
   "metadata": {},
   "source": [
    "Taking the ${\\log()}$ of the odds (i.e log(odds)) solves this problem by making everything $Symmetrical$."
   ]
  },
  {
   "cell_type": "markdown",
   "metadata": {},
   "source": [
    "for Example if the $odds$ or $against$ $1$ to $6$ then the log(odds) are $\\log(\\frac{1}{6})$ = $-1.79$."
   ]
  },
  {
   "cell_type": "markdown",
   "metadata": {},
   "source": [
    "if the odds are in $favor$ $6$ to $1$ , then the $\\log(odds)$ are $\\log(\\frac{6}{1})$ = $1.79$."
   ]
  },
  {
   "cell_type": "markdown",
   "metadata": {},
   "source": [
    "using the $log$ $function$ the distance from the origin or $0$ is the same for $1$ to $6$ and $6$ to $1$ $odds$."
   ]
  },
  {
   "cell_type": "markdown",
   "metadata": {},
   "source": [
    "now that we konw the main idea about $log(odds)$..."
   ]
  },
  {
   "cell_type": "markdown",
   "metadata": {},
   "source": [
    "# Let's get into some details"
   ]
  },
  {
   "cell_type": "markdown",
   "metadata": {},
   "source": [
    "$\\frac{5}{3}$ = $1.7$ Earlier was saw that odds can be calculated from counts.."
   ]
  },
  {
   "cell_type": "markdown",
   "metadata": {},
   "source": [
    "and we saw that the same odds could be calculated from $probability$ = $1.7$ "
   ]
  },
  {
   "cell_type": "markdown",
   "metadata": {},
   "source": [
    "\\begin{equation}\n",
    "{\\log(odds)} = {\\log(\\frac{5}{3})}\n",
    "\\end{equation}"
   ]
  },
  {
   "cell_type": "markdown",
   "metadata": {},
   "source": [
    "\\begin{equation}\n",
    "{\\log\\frac{(p)}{(1-p)}} = log(1.7)\n",
    "\\end{equation}"
   ]
  },
  {
   "cell_type": "markdown",
   "metadata": {},
   "source": [
    "\\begin{equation}\n",
    "=0.53\n",
    "\\end{equation}"
   ]
  },
  {
   "cell_type": "markdown",
   "metadata": {},
   "source": [
    "and that means we can calculate the ${\\log}$ of the $odds$ with counts or $probability$ - either way we will get  same value."
   ]
  },
  {
   "cell_type": "markdown",
   "metadata": {},
   "source": [
    "$Note$:- the log of the ratio of the $probability$ is called $logit$ $function$ and from the basis for $Logistic$ $Regression$."
   ]
  },
  {
   "cell_type": "markdown",
   "metadata": {},
   "source": [
    "I mention it because if you do $Logistic$ $regression$ you will see if a whole lot. it's no big deal!"
   ]
  },
  {
   "cell_type": "markdown",
   "metadata": {},
   "source": [
    "I get it $odds$ are just the ratio of something happening to something not happening...."
   ]
  },
  {
   "cell_type": "markdown",
   "metadata": {},
   "source": [
    "and log(odds) is just the log of odds."
   ]
  },
  {
   "cell_type": "markdown",
   "metadata": {},
   "source": [
    "$What$ $is$ $a$ $big$ $Deal$."
   ]
  },
  {
   "cell_type": "markdown",
   "metadata": {},
   "source": [
    "To show you want the $big$ $deal$ is all about if I pick pairs of random numbers that add up to $100$ (for example) and use them to calculate the $\\log(odds)$  and draw a $histogram$...."
   ]
  },
  {
   "cell_type": "markdown",
   "metadata": {},
   "source": [
    "the $histogram$ is in the shape of $Normal$ $Distribution$."
   ]
  },
  {
   "cell_type": "markdown",
   "metadata": {},
   "source": [
    "the makes the $log(odds)$ useful for solving certain statistics problems. specitically ones where we are trying to determine $probabilities$ about ....$\\frac{win}{loss}$,$\\frac{yes}{no}$,$\\frac{true}{false}$ types of situations."
   ]
  },
  {
   "cell_type": "markdown",
   "metadata": {},
   "source": [
    "let's continue......."
   ]
  },
  {
   "cell_type": "markdown",
   "metadata": {},
   "source": [
    "\\begin{equation}\n",
    "-observed*{\\log(odds)} - {\\log(1-p)}\n",
    "\\end{equation}"
   ]
  },
  {
   "cell_type": "markdown",
   "metadata": {},
   "source": [
    "\\begin{equation}\n",
    "{\\log(1-p)} = {\\log(1-\\frac{e^{\\log(odds)}}{1 + e^{\\log(odds)}} )}\n",
    "\\end{equation}"
   ]
  },
  {
   "cell_type": "markdown",
   "metadata": {},
   "source": [
    "let's explain the concept of the..."
   ]
  },
  {
   "cell_type": "markdown",
   "metadata": {},
   "source": [
    "\\begin{equation}\n",
    "p=\\frac{e^{\\log(odds)}}{1 + e^{\\log(odds)}} \n",
    "\\end{equation}"
   ]
  },
  {
   "cell_type": "markdown",
   "metadata": {},
   "source": [
    "$Note$:- This above relationship between $probability$ $p$ and the $log(odds)$ is derived in the $logistic$ $Regression$ on estimating parameters with $Maximum$ $Likelihood$ $Estimation$."
   ]
  },
  {
   "cell_type": "markdown",
   "metadata": {},
   "source": [
    "let's start..."
   ]
  },
  {
   "cell_type": "markdown",
   "metadata": {},
   "source": [
    "we know that\n",
    "\\begin{equation}\n",
    "{\\log(\\frac{p}{1-p})} = log(odds)\n",
    "\\end{equation}"
   ]
  },
  {
   "cell_type": "markdown",
   "metadata": {},
   "source": [
    "\\begin{equation}\n",
    "\\frac{p}{1-p} = e^{\\log(odds)}\n",
    "\\end{equation}"
   ]
  },
  {
   "cell_type": "markdown",
   "metadata": {},
   "source": [
    "and we can rearrange this then we get....\n",
    "\\begin{equation}\n",
    "\\frac{1 - p}{p} = \\frac{1}{e^{\\log(odds)}}\n",
    "\\end{equation}"
   ]
  },
  {
   "cell_type": "markdown",
   "metadata": {},
   "source": [
    "\\begin{equation}\n",
    "\\frac{1}{p} - 1 = \\frac{1}{e^{\\log(odds)}}\n",
    "\\end{equation}"
   ]
  },
  {
   "cell_type": "markdown",
   "metadata": {},
   "source": [
    "\\begin{equation}\n",
    "\\frac{1}{p} =  \\frac{1 + e^{\\log(odds)}}{e^{\\log(odds)}} \n",
    "\\end{equation}"
   ]
  },
  {
   "cell_type": "markdown",
   "metadata": {},
   "source": [
    "\\begin{equation}\n",
    "p = \\frac{e^{\\log(odds)}}{1 + e^{\\log(odds)}}\n",
    "\\end{equation}"
   ]
  },
  {
   "cell_type": "markdown",
   "metadata": {},
   "source": [
    "\\begin{equation}\n",
    "log(1- p) = {\\log(\\frac{1 + e^{\\log(odds)}}{1 + e^{\\log(odds)}} - \\frac{e^{\\log(odds)}}{1 + e^{\\log(odds)}})}\n",
    "\\end{equation}"
   ]
  },
  {
   "cell_type": "markdown",
   "metadata": {},
   "source": [
    "\\begin{equation}\n",
    "log(1- p) = {\\log(\\frac{1}{1 + e^{\\log(odds)}})}\n",
    "\\end{equation}"
   ]
  },
  {
   "cell_type": "markdown",
   "metadata": {},
   "source": [
    "\\begin{equation}\n",
    "{\\log(1 - p)} = {\\log(1) - {\\log(1 + e^{\\log(odds)})}}\n",
    "\\end{equation}"
   ]
  },
  {
   "cell_type": "markdown",
   "metadata": {},
   "source": [
    "you know that $\\log(1)$ = $0$...."
   ]
  },
  {
   "cell_type": "markdown",
   "metadata": {},
   "source": [
    "\\begin{equation}\n",
    "{\\log(1 - p)} =  -{\\log(1 + e^{\\log(odds)})}\n",
    "\\end{equation}"
   ]
  },
  {
   "cell_type": "markdown",
   "metadata": {},
   "source": [
    "thus the $log(1 - p)$, which is a function of the predicted probability $p$ can be transformed into a function of the predicted $log(odds)$."
   ]
  },
  {
   "cell_type": "markdown",
   "metadata": {},
   "source": [
    "\\begin{equation}\n",
    "-observed*{\\log(odds)} + {\\log(1 + e^{\\log(odds)})}\n",
    "\\end{equation}"
   ]
  },
  {
   "cell_type": "markdown",
   "metadata": {},
   "source": [
    "we converted the negative ${\\log(likelihood)}$ of the data which is a function of the predicted probability $p$, into a function of the predicted $\\log(odds)$."
   ]
  },
  {
   "cell_type": "markdown",
   "metadata": {},
   "source": [
    "\\begin{equation}\n",
    "-observed*{\\log(odds)} + {\\log(1 + e^{\\log(odds)})}\n",
    "\\end{equation}"
   ]
  },
  {
   "cell_type": "markdown",
   "metadata": {},
   "source": [
    "$So$ $This$ $Will$ $Be$ $The$ $Loss$ $Function$."
   ]
  },
  {
   "cell_type": "markdown",
   "metadata": {},
   "source": [
    "Now we just need to show that it is Differentiable.."
   ]
  },
  {
   "cell_type": "markdown",
   "metadata": {},
   "source": [
    "so take derivative of the loss function with respect to predicted $\\log(odds)$."
   ]
  },
  {
   "cell_type": "markdown",
   "metadata": {},
   "source": [
    "\\begin{equation}\n",
    "\\frac{\\partial}{\\partial {\\log(odds)}}[-observed *{\\log(odds)} + {\\log(1 + e^{log(odds)})}]\n",
    "\\end{equation}"
   ]
  },
  {
   "cell_type": "markdown",
   "metadata": {},
   "source": [
    "\\begin{equation}\n",
    "=[-observed + \\frac{1}{1 + e^{\\log(odds)}} *(0  + e^{\\log(odds)})]\n",
    "\\end{equation}"
   ]
  },
  {
   "cell_type": "markdown",
   "metadata": {},
   "source": [
    "\\begin{equation}\n",
    "=[-observed + \\frac{e^{\\log(odds)}}{1 + e^{\\log(odds)}}]\n",
    "\\end{equation}"
   ]
  },
  {
   "cell_type": "markdown",
   "metadata": {},
   "source": [
    "\\begin{equation}\n",
    "=[-observed + p]\n",
    "\\end{equation}"
   ]
  },
  {
   "cell_type": "markdown",
   "metadata": {},
   "source": [
    "as we will soon see sometimes it's easier to use the function of the $\\log(odds)$ and sometime it's easier to use the function of the probability $p$.  "
   ]
  },
  {
   "cell_type": "markdown",
   "metadata": {},
   "source": [
    "$Step - [1]$: Initialize model with a constant value."
   ]
  },
  {
   "cell_type": "markdown",
   "metadata": {},
   "source": [
    "\\begin{equation}\n",
    "F_{0}(x) = \\underset{\\gamma}{\\mathrm{argmin}}\\sum_{i=1}^{N}L({y}_i,{\\gamma})\n",
    "\\end{equation}"
   ]
  },
  {
   "cell_type": "markdown",
   "metadata": {},
   "source": [
    "$Loss$ $Function$. \n",
    "\\begin{equation}\n",
    "L(y_{i},{\\gamma}) = -observed*log(odds)+log(1 + e^{\\log(odds)})\n",
    "\\end{equation}"
   ]
  },
  {
   "cell_type": "markdown",
   "metadata": {},
   "source": [
    "The $y_{i}$ refers to the observed values..."
   ]
  },
  {
   "cell_type": "markdown",
   "metadata": {},
   "source": [
    "${\\gamma}$, refers to a $\\log(odds)$ value.. "
   ]
  },
  {
   "cell_type": "markdown",
   "metadata": {},
   "source": [
    "In theory , we could go ahead and replace the $\\log(odds)$ with ${\\gamma}$.."
   ]
  },
  {
   "cell_type": "markdown",
   "metadata": {},
   "source": [
    "but it's actually easier to see what's going on if we leave the $\\log(odds)$ in and remember that it represent ${\\gamma}$"
   ]
  },
  {
   "cell_type": "markdown",
   "metadata": {},
   "source": [
    "The summation means that we add up one $Loss$ $Function$ for each observed value.."
   ]
  },
  {
   "cell_type": "markdown",
   "metadata": {},
   "source": [
    "\\begin{equation}\n",
    "-{y}_1*{\\log(odds)} + log(1 + e^{\\log(odds)}) -{y}_2*{\\log(odds)} + log(1 + e^{\\log(odds)}) -{y}_3*{\\log(odds)}+ log(1 + e^{\\log(odds)})\n",
    "\\end{equation}"
   ]
  },
  {
   "cell_type": "markdown",
   "metadata": {},
   "source": [
    "\\begin{equation}\n",
    "-1*{\\log(odds)} + log(1 + e^{\\log(odds)}) -1*{\\log(odds)} + log(1 + e^{\\log(odds)}) -0*{\\log(odds)}+ log(1 + e^{\\log(odds)})\n",
    "\\end{equation}"
   ]
  },
  {
   "cell_type": "markdown",
   "metadata": {},
   "source": [
    "and $argmin$ $over$ $gamma$ means we need to find a $log(odds)$ value that minimizes this sum."
   ]
  },
  {
   "cell_type": "markdown",
   "metadata": {},
   "source": [
    "first things we do is take the $derivative$ of each term with respect to $log(odds)$."
   ]
  },
  {
   "cell_type": "markdown",
   "metadata": {},
   "source": [
    "\\begin{equation}\n",
    "\\frac{\\partial}{\\partial {\\log(odds)}}[-1*{\\log(odds)} + log(1 + e^{\\log(odds)})] + \\frac{\\partial}{\\partial {\\log(odds)}}[-1*{\\log(odds)} + log(1 + e^{\\log(odds)})]+  \\frac{\\partial}{\\partial {\\log(odds)}}[-0*{\\log(odds)}+ log(1 + e^{\\log(odds)})] = 0\n",
    "\\end{equation}"
   ]
  },
  {
   "cell_type": "markdown",
   "metadata": {},
   "source": [
    "\\begin{equation}\n",
    "-1 + \\frac{e^{\\log(odds)}}{1 + e^{\\log(odds)}} -1 + \\frac{e^{\\log(odds)}}{1 + e^{\\log(odds)}} 0 + \\frac{e^{\\log(odds)}}{1 + e^{\\log(odds)}}  = 0\n",
    "\\end{equation}"
   ]
  },
  {
   "cell_type": "markdown",
   "metadata": {},
   "source": [
    "and we that.\n",
    "\\begin{equation}\n",
    "p=\\frac{e^{\\log(odds)}}{1 + e^{\\log(odds)}} \n",
    "\\end{equation}"
   ]
  },
  {
   "cell_type": "markdown",
   "metadata": {},
   "source": [
    "\\begin{equation}\n",
    "-1+p -1+p +p = 0\n",
    "\\end{equation}"
   ]
  },
  {
   "cell_type": "markdown",
   "metadata": {},
   "source": [
    "\\begin{equation}\n",
    "-2 + 3*p = 0\n",
    "\\end{equation}"
   ]
  },
  {
   "cell_type": "markdown",
   "metadata": {},
   "source": [
    "\\begin{equation}\n",
    "p = \\frac{2}{3}\n",
    "\\end{equation}"
   ]
  },
  {
   "cell_type": "markdown",
   "metadata": {},
   "source": [
    "$\\frac{2}{3}$ for the initial predicted probability $p$ because .."
   ]
  },
  {
   "cell_type": "markdown",
   "metadata": {},
   "source": [
    "$2$ people Love Troll2. and there are $3$ people in the training datasets. "
   ]
  },
  {
   "cell_type": "markdown",
   "metadata": {},
   "source": [
    "we can coverted the predicted probability $p$ into the predicted $log(odds)$."
   ]
  },
  {
   "cell_type": "markdown",
   "metadata": {},
   "source": [
    "\\begin{equation}\n",
    "{\\log(odds)} = {\\log(\\frac{p}{1-p})}\n",
    "\\end{equation}"
   ]
  },
  {
   "cell_type": "markdown",
   "metadata": {},
   "source": [
    "\\begin{equation}\n",
    "={\\log(\\frac{\\frac{2}{3}}{1 - \\frac{2}{3}})}\n",
    "\\end{equation}"
   ]
  },
  {
   "cell_type": "markdown",
   "metadata": {},
   "source": [
    "\\begin{equation}\n",
    "= {\\log(\\frac{\\frac{2}{3}}{\\frac{1}{3}})}\n",
    "\\end{equation}"
   ]
  },
  {
   "cell_type": "markdown",
   "metadata": {},
   "source": [
    "\\begin{equation}\n",
    "{\\log(odds)}= {\\log(\\frac{2}{1})}\n",
    "\\end{equation}"
   ]
  },
  {
   "cell_type": "markdown",
   "metadata": {},
   "source": [
    "and the predicted $log(odds)$ is the $log(\\frac{2}{1})$ which makes sences because.."
   ]
  },
  {
   "cell_type": "markdown",
   "metadata": {},
   "source": [
    "$2$ people are love troll2 and $1$ people does not.."
   ]
  },
  {
   "cell_type": "markdown",
   "metadata": {},
   "source": [
    "we have created the initial predicted $log(odds)$ , $F_{0}(x)$.."
   ]
  },
  {
   "cell_type": "markdown",
   "metadata": {},
   "source": [
    " \\begin{equation}\n",
    "F_{0}(x)= {\\log(\\frac{2}{1})} = 0.69 \n",
    "\\end{equation}"
   ]
  },
  {
   "cell_type": "markdown",
   "metadata": {},
   "source": [
    "so this is the initial leaf $F_{0}(x)$..."
   ]
  },
  {
   "cell_type": "markdown",
   "metadata": {},
   "source": [
    "we initialise the model with a constant value "
   ]
  },
  {
   "cell_type": "markdown",
   "metadata": {},
   "source": [
    "\\begin{equation}\n",
    "F_{0} = {\\log(odds)} = 0.69\n",
    "\\end{equation}"
   ]
  },
  {
   "cell_type": "markdown",
   "metadata": {},
   "source": [
    "in other words we create a $Leaf$ that  predicts the $log(odds)$ that someone will $Love$ $Troll2$ = $0.69$."
   ]
  },
  {
   "cell_type": "markdown",
   "metadata": {},
   "source": [
    "$Step$-[2]:for $m$=1 to M:"
   ]
  },
  {
   "cell_type": "markdown",
   "metadata": {},
   "source": [
    "$[A]$ -  Compute "
   ]
  },
  {
   "cell_type": "markdown",
   "metadata": {},
   "source": [
    "\\begin{equation}\n",
    "r_{im} = -[\\frac{\\partial L({y}_i,F({x}_i))}{\\partial F({x}_i)}]_{F(x) = F_{m-1}(x)}\n",
    "\\end{equation}"
   ]
  },
  {
   "cell_type": "markdown",
   "metadata": {},
   "source": [
    "In part $A$ we calculate $Pseudo$ $Residual$..."
   ]
  },
  {
   "cell_type": "markdown",
   "metadata": {},
   "source": [
    "this is just the $Derivative$ of the $Loss$ $Function$... with respect to predicted $\\log(odds)$."
   ]
  },
  {
   "cell_type": "markdown",
   "metadata": {},
   "source": [
    "and we have Already calculated this..."
   ]
  },
  {
   "cell_type": "markdown",
   "metadata": {},
   "source": [
    "\\begin{equation}\n",
    "[-observed + \\frac{e^{\\log(odds)}}{1 + e^{\\log(odds)}}]\n",
    "\\end{equation}"
   ]
  },
  {
   "cell_type": "markdown",
   "metadata": {},
   "source": [
    "and after multiply this by $-1$ then we get.."
   ]
  },
  {
   "cell_type": "markdown",
   "metadata": {},
   "source": [
    "\\begin{equation}\n",
    "=[observed - \\frac{e^{\\log(odds)}}{1 + e^{\\log(odds)}}]\n",
    "\\end{equation}"
   ]
  },
  {
   "cell_type": "markdown",
   "metadata": {},
   "source": [
    "and that leaves us with this equation for calculating $Pseudo$ $Residuals$."
   ]
  },
  {
   "cell_type": "markdown",
   "metadata": {},
   "source": [
    "$Note$:- as we know seen before we can replace this term with the predicted probability $p$..."
   ]
  },
  {
   "cell_type": "markdown",
   "metadata": {},
   "source": [
    "\\begin{equation}\n",
    "=[observed - p]\n",
    "\\end{equation}"
   ]
  },
  {
   "cell_type": "markdown",
   "metadata": {},
   "source": [
    "and the $observed$ minus the $Predicted$ results in a $Pseudo$ $Residual$. "
   ]
  },
  {
   "cell_type": "markdown",
   "metadata": {},
   "source": [
    "\\begin{equation}\n",
    "=[observed - \\frac{e^{\\log(odds)}}{1 + e^{\\log(odds)}}]\n",
    "\\end{equation}"
   ]
  },
  {
   "cell_type": "markdown",
   "metadata": {},
   "source": [
    "put the value of $\\log(odds)$ in above equation that is  $\\log(\\frac{2}{1})$."
   ]
  },
  {
   "cell_type": "markdown",
   "metadata": {},
   "source": [
    "\\begin{equation}\n",
    "=[observed - \\frac{e^{\\log(\\frac{2}{1})}}{1 + e^{\\log(\\frac{2}{1})}}]\n",
    "\\end{equation}"
   ]
  },
  {
   "cell_type": "markdown",
   "metadata": {},
   "source": [
    "\\begin{equation}\n",
    "=[observed - \\frac{2}{1 + 2}]\n",
    "\\end{equation}"
   ]
  },
  {
   "cell_type": "markdown",
   "metadata": {},
   "source": [
    "\\begin{equation}\n",
    "=[observed - \\frac{2}{3}]\n",
    "\\end{equation}"
   ]
  },
  {
   "cell_type": "markdown",
   "metadata": {},
   "source": [
    "\\begin{equation}\n",
    "= [observed - 0.67]\n",
    "\\end{equation}"
   ]
  },
  {
   "cell_type": "markdown",
   "metadata": {},
   "source": [
    "Now we can compute the $Pseduo$ $Residuals$ for each sample ${(r_{i,m})}$ where $i$ is the sample number and $m$ is the tree that we are building."
   ]
  },
  {
   "cell_type": "markdown",
   "metadata": {},
   "source": [
    "so we will start with ${r_{1,1}}$ the $Residual$ for the first sample $(i=1)$ and the first tree ${m=1}$."
   ]
  },
  {
   "cell_type": "markdown",
   "metadata": {},
   "source": [
    "\\begin{equation}\n",
    "r_{1,1} = [observed - 0.67]\n",
    "\\end{equation}"
   ]
  },
  {
   "cell_type": "markdown",
   "metadata": {},
   "source": [
    "\\begin{equation}\n",
    "r_{1,1} = [1 - 0.67]\n",
    "\\end{equation}"
   ]
  },
  {
   "cell_type": "markdown",
   "metadata": {},
   "source": [
    "\\begin{equation}\n",
    "r_{1,1} = [0.33]\n",
    "\\end{equation}"
   ]
  },
  {
   "cell_type": "markdown",
   "metadata": {},
   "source": [
    "same calculation for $r_{2,1}$ and $r_{3,1}$."
   ]
  },
  {
   "cell_type": "markdown",
   "metadata": {},
   "source": [
    "\\begin{equation}\n",
    "r_{2,1} = [observed - 0.67]\n",
    "\\end{equation}"
   ]
  },
  {
   "cell_type": "markdown",
   "metadata": {},
   "source": [
    "\\begin{equation}\n",
    "r_{2,1} = [1- 0.67]\n",
    "\\end{equation}"
   ]
  },
  {
   "cell_type": "markdown",
   "metadata": {},
   "source": [
    "\\begin{equation}\n",
    "r_{2,1} = [0.33]\n",
    "\\end{equation}"
   ]
  },
  {
   "cell_type": "markdown",
   "metadata": {},
   "source": [
    "\\begin{equation}\n",
    "r_{3,1} = [observed- 0.67]\n",
    "\\end{equation}"
   ]
  },
  {
   "cell_type": "markdown",
   "metadata": {},
   "source": [
    "\\begin{equation}\n",
    "r_{3,1} = [0- 0.67]\n",
    "\\end{equation}"
   ]
  },
  {
   "cell_type": "markdown",
   "metadata": {},
   "source": [
    "\\begin{equation}\n",
    "r_{3,1} = [- 0.67]\n",
    "\\end{equation}"
   ]
  },
  {
   "cell_type": "code",
   "execution_count": 42,
   "metadata": {},
   "outputs": [],
   "source": [
    "data['residual'] = [0.33,0.33,-0.67]"
   ]
  },
  {
   "cell_type": "code",
   "execution_count": 43,
   "metadata": {},
   "outputs": [
    {
     "data": {
      "text/html": [
       "<div>\n",
       "<style scoped>\n",
       "    .dataframe tbody tr th:only-of-type {\n",
       "        vertical-align: middle;\n",
       "    }\n",
       "\n",
       "    .dataframe tbody tr th {\n",
       "        vertical-align: top;\n",
       "    }\n",
       "\n",
       "    .dataframe thead th {\n",
       "        text-align: right;\n",
       "    }\n",
       "</style>\n",
       "<table border=\"1\" class=\"dataframe\">\n",
       "  <thead>\n",
       "    <tr style=\"text-align: right;\">\n",
       "      <th></th>\n",
       "      <th>Like Popcorn</th>\n",
       "      <th>Age</th>\n",
       "      <th>favorite</th>\n",
       "      <th>Loves Troll_2</th>\n",
       "      <th>residual</th>\n",
       "    </tr>\n",
       "  </thead>\n",
       "  <tbody>\n",
       "    <tr>\n",
       "      <th>0</th>\n",
       "      <td>yes</td>\n",
       "      <td>12</td>\n",
       "      <td>Blue</td>\n",
       "      <td>yes</td>\n",
       "      <td>0.33</td>\n",
       "    </tr>\n",
       "    <tr>\n",
       "      <th>1</th>\n",
       "      <td>no</td>\n",
       "      <td>87</td>\n",
       "      <td>Green</td>\n",
       "      <td>yes</td>\n",
       "      <td>0.33</td>\n",
       "    </tr>\n",
       "    <tr>\n",
       "      <th>2</th>\n",
       "      <td>no</td>\n",
       "      <td>44</td>\n",
       "      <td>Blue</td>\n",
       "      <td>no</td>\n",
       "      <td>-0.67</td>\n",
       "    </tr>\n",
       "  </tbody>\n",
       "</table>\n",
       "</div>"
      ],
      "text/plain": [
       "  Like Popcorn  Age favorite Loves Troll_2  residual\n",
       "0          yes   12     Blue           yes      0.33\n",
       "1           no   87    Green           yes      0.33\n",
       "2           no   44     Blue            no     -0.67"
      ]
     },
     "execution_count": 43,
     "metadata": {},
     "output_type": "execute_result"
    }
   ],
   "source": [
    "data.head()"
   ]
  },
  {
   "cell_type": "markdown",
   "metadata": {},
   "source": [
    "$[B]$- fit a Regreesion tree to the $r_{im}$ values and create terminal regions $R_{jm}$ for $j$ = $1......j_{m}$."
   ]
  },
  {
   "cell_type": "code",
   "execution_count": null,
   "metadata": {},
   "outputs": [],
   "source": []
  },
  {
   "cell_type": "code",
   "execution_count": null,
   "metadata": {},
   "outputs": [],
   "source": []
  },
  {
   "cell_type": "code",
   "execution_count": null,
   "metadata": {},
   "outputs": [],
   "source": []
  },
  {
   "cell_type": "code",
   "execution_count": null,
   "metadata": {},
   "outputs": [],
   "source": []
  },
  {
   "cell_type": "code",
   "execution_count": null,
   "metadata": {},
   "outputs": [],
   "source": []
  },
  {
   "cell_type": "code",
   "execution_count": null,
   "metadata": {},
   "outputs": [],
   "source": []
  },
  {
   "cell_type": "code",
   "execution_count": null,
   "metadata": {},
   "outputs": [],
   "source": []
  }
 ],
 "metadata": {
  "kernelspec": {
   "display_name": "Python 3",
   "language": "python",
   "name": "python3"
  },
  "language_info": {
   "codemirror_mode": {
    "name": "ipython",
    "version": 3
   },
   "file_extension": ".py",
   "mimetype": "text/x-python",
   "name": "python",
   "nbconvert_exporter": "python",
   "pygments_lexer": "ipython3",
   "version": "3.7.3"
  }
 },
 "nbformat": 4,
 "nbformat_minor": 2
}
